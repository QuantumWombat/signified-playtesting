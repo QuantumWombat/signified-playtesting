{
 "cells": [
  {
   "cell_type": "code",
   "execution_count": 67,
   "id": "20d6346b-1cd2-40ab-9c98-566eb6c5989d",
   "metadata": {},
   "outputs": [],
   "source": [
    "from src import *\n",
    "from src.round_tracking import Round\n",
    "from src.round_tracking import TestedCompanionSet"
   ]
  },
  {
   "cell_type": "code",
   "execution_count": 44,
   "id": "42fa28b9-1ce5-4d01-a836-3c85f3b2d315",
   "metadata": {},
   "outputs": [],
   "source": [
    "cs = TestedCompanionSet([],[])"
   ]
  },
  {
   "cell_type": "code",
   "execution_count": 23,
   "id": "d479ff30-2687-464a-b34f-5f481c9c27af",
   "metadata": {},
   "outputs": [
    {
     "data": {
      "text/plain": [
       "1"
      ]
     },
     "execution_count": 23,
     "metadata": {},
     "output_type": "execute_result"
    }
   ],
   "source": [
    "len(cs.companions)"
   ]
  },
  {
   "cell_type": "code",
   "execution_count": 22,
   "id": "3e387c6f-0811-4ded-985a-e8e9782634b8",
   "metadata": {},
   "outputs": [],
   "source": [
    "cs.companions.append(CompanionType.WARRIOR)"
   ]
  },
  {
   "cell_type": "code",
   "execution_count": 47,
   "id": "bc5238d7-aaa4-4e87-9e00-31d75149ecd5",
   "metadata": {},
   "outputs": [
    {
     "ename": "NameError",
     "evalue": "name 'TrackedEncounter' is not defined",
     "output_type": "error",
     "traceback": [
      "\u001b[1;31m---------------------------------------------------------------------------\u001b[0m",
      "\u001b[1;31mNameError\u001b[0m                                 Traceback (most recent call last)",
      "Cell \u001b[1;32mIn[47], line 1\u001b[0m\n\u001b[1;32m----> 1\u001b[0m cs\u001b[38;5;241m.\u001b[39mencounters\u001b[38;5;241m.\u001b[39mappend(\u001b[43mTrackedEncounter\u001b[49m([]))\n",
      "\u001b[1;31mNameError\u001b[0m: name 'TrackedEncounter' is not defined"
     ]
    }
   ],
   "source": [
    "cs.encounters.append(TrackedEncounter([]))"
   ]
  },
  {
   "cell_type": "code",
   "execution_count": 43,
   "id": "9984c1b1-cc05-4bc9-bb16-879c0471eaa7",
   "metadata": {},
   "outputs": [
    {
     "ename": "NameError",
     "evalue": "name 'TrackedEncounter' is not defined",
     "output_type": "error",
     "traceback": [
      "\u001b[1;31m---------------------------------------------------------------------------\u001b[0m",
      "\u001b[1;31mNameError\u001b[0m                                 Traceback (most recent call last)",
      "Cell \u001b[1;32mIn[43], line 1\u001b[0m\n\u001b[1;32m----> 1\u001b[0m tr \u001b[38;5;241m=\u001b[39m \u001b[43mTrackedEncounter\u001b[49m()\n",
      "\u001b[1;31mNameError\u001b[0m: name 'TrackedEncounter' is not defined"
     ]
    }
   ],
   "source": [
    "tr = TrackedEncounter()"
   ]
  },
  {
   "cell_type": "code",
   "execution_count": 27,
   "id": "cb87f150-670e-45d1-a258-03da95b310f6",
   "metadata": {},
   "outputs": [],
   "source": [
    "r = Round([])"
   ]
  },
  {
   "cell_type": "code",
   "execution_count": 28,
   "id": "c0713d20-c4d5-4048-ba31-2ddee1f60ffd",
   "metadata": {},
   "outputs": [
    {
     "data": {
      "text/plain": [
       "0"
      ]
     },
     "execution_count": 28,
     "metadata": {},
     "output_type": "execute_result"
    }
   ],
   "source": [
    "len(r.turns)"
   ]
  },
  {
   "cell_type": "code",
   "execution_count": 29,
   "id": "7ff3e5ee-8344-4368-b929-1b45be1a93b8",
   "metadata": {},
   "outputs": [],
   "source": [
    "r.turns.append(Turn(3,2))"
   ]
  },
  {
   "cell_type": "code",
   "execution_count": 41,
   "id": "a8a1ef73-ff30-40b0-9a65-fa82baf4db5b",
   "metadata": {},
   "outputs": [
    {
     "name": "stdout",
     "output_type": "stream",
     "text": [
      "<src.round_tracking.Turn object at 0x000001884B41E890>\n"
     ]
    },
    {
     "ename": "AttributeError",
     "evalue": "'NoneType' object has no attribute 'str'",
     "output_type": "error",
     "traceback": [
      "\u001b[1;31m---------------------------------------------------------------------------\u001b[0m",
      "\u001b[1;31mAttributeError\u001b[0m                            Traceback (most recent call last)",
      "Cell \u001b[1;32mIn[41], line 1\u001b[0m\n\u001b[1;32m----> 1\u001b[0m \u001b[38;5;28;43mprint\u001b[39;49m\u001b[43m(\u001b[49m\u001b[43mr\u001b[49m\u001b[38;5;241;43m.\u001b[39;49m\u001b[43mturns\u001b[49m\u001b[43m[\u001b[49m\u001b[38;5;241;43m0\u001b[39;49m\u001b[43m]\u001b[49m\u001b[43m)\u001b[49m\u001b[38;5;241;43m.\u001b[39;49m\u001b[43mstr\u001b[49m\n",
      "\u001b[1;31mAttributeError\u001b[0m: 'NoneType' object has no attribute 'str'"
     ]
    }
   ],
   "source": [
    "print(r.turns[0])"
   ]
  },
  {
   "cell_type": "code",
   "execution_count": 42,
   "id": "34b526f3-c840-4bb5-90f9-a56af6c2c8a5",
   "metadata": {},
   "outputs": [
    {
     "name": "stdout",
     "output_type": "stream",
     "text": [
      "<src.round_tracking.Turn object at 0x000001884B3BC710>\n"
     ]
    }
   ],
   "source": [
    "t = Turn(3,2)\n",
    "print(t)"
   ]
  },
  {
   "cell_type": "code",
   "execution_count": null,
   "id": "891101a4-4ac6-461b-94d1-5c03270d2861",
   "metadata": {},
   "outputs": [],
   "source": []
  }
 ],
 "metadata": {
  "kernelspec": {
   "display_name": "Python 3 (ipykernel)",
   "language": "python",
   "name": "python3"
  },
  "language_info": {
   "codemirror_mode": {
    "name": "ipython",
    "version": 3
   },
   "file_extension": ".py",
   "mimetype": "text/x-python",
   "name": "python",
   "nbconvert_exporter": "python",
   "pygments_lexer": "ipython3",
   "version": "3.11.5"
  }
 },
 "nbformat": 4,
 "nbformat_minor": 5
}
