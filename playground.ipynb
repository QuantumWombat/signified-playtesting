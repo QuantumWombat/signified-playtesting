{
 "cells": [
  {
   "cell_type": "code",
   "execution_count": 1,
   "id": "45891e97-ca72-4043-983e-6115dc0c92ec",
   "metadata": {},
   "outputs": [],
   "source": [
    "from src import *"
   ]
  },
  {
   "cell_type": "markdown",
   "id": "b8f7c4ed-3bf0-4089-bfb5-91e59d6cca91",
   "metadata": {},
   "source": [
    "# Start the Game\n",
    "\n",
    "You get a few companions to start the game with, chosen at random."
   ]
  },
  {
   "cell_type": "code",
   "execution_count": 2,
   "id": "a2ec5c0f-6b82-457c-9404-a8b82655c76e",
   "metadata": {},
   "outputs": [
    {
     "name": "stdout",
     "output_type": "stream",
     "text": [
      "Enabled Companions\n",
      "CompanionType.WARRIOR\n",
      "CompanionType.ENTROPY\n",
      "CompanionType.PYTHIA\n",
      "CompanionType.ARCHITECT\n",
      "\n",
      "Using seed 100\n",
      "ROSTER\n",
      "DeltaWarrior: 1⚔️ 20/20💖\n",
      "GammaEntropy: 1⚔️ 20/20💖\n",
      "DeltaArchitect: 1⚔️ 20/20💖\n",
      "\n",
      "Shop level: 1: Energy: 3, Max Team Size: 3\n",
      "\n",
      "Your current gold: 0\n",
      "\n",
      "COMPANIONS (4 gold): \n",
      "\n",
      "CARDS (3 gold): \n",
      "\n",
      "UPGRADE (4 gold)\n",
      "\n",
      "REROLL (1 gold)\n"
     ]
    }
   ],
   "source": [
    "# Use this option to play with all companion types\n",
    "# enabled_companions = list(CompanionType)\n",
    "enabled_companions = [\n",
    "    CompanionType.WARRIOR,\n",
    "    CompanionType.ENTROPY,\n",
    "    CompanionType.PYTHIA,\n",
    "    CompanionType.ARCHITECT,\n",
    "]\n",
    "print(\"Enabled Companions\")\n",
    "print(\"\\n\".join([str(c) for c in enabled_companions]))\n",
    "print()\n",
    "\n",
    "tb = Testbed(seed=100, enabled_companions=enabled_companions)\n",
    "print(tb)"
   ]
  },
  {
   "cell_type": "markdown",
   "id": "f91e8194-1a3e-459f-8ae2-e0bff069d2c6",
   "metadata": {},
   "source": [
    "# (Optional) Restore your Progress\n",
    "\n",
    "If you want to save the state of a playtesting session to make changes to the code or resume it later, use the following code to save and restore the Testbed object."
   ]
  },
  {
   "cell_type": "code",
   "execution_count": 3,
   "id": "ebe2bae8-b821-495f-9f01-b9758ba2081f",
   "metadata": {},
   "outputs": [],
   "source": [
    "tb.save_to_file("
   ]
  },
  {
   "cell_type": "code",
   "execution_count": 6,
   "id": "3bbed9dd-1522-4cab-863d-e087f4ee3f7d",
   "metadata": {},
   "outputs": [
    {
     "name": "stdout",
     "output_type": "stream",
     "text": [
      "ROSTER\n",
      "DeltaWarrior: 1⚔️ 20/20💖\n",
      "GammaEntropy: 1⚔️ 20/20💖\n",
      "DeltaArchitect: 1⚔️ 20/20💖\n",
      "\n",
      "Shop level: 1: Energy: 3, Max Team Size: 3\n",
      "\n",
      "Your current gold: 0\n",
      "\n",
      "COMPANIONS (4 gold): \n",
      "\n",
      "CARDS (3 gold): \n",
      "\n",
      "UPGRADE (4 gold)\n",
      "\n",
      "REROLL (1 gold)\n"
     ]
    }
   ],
   "source": [
    "tb2 = Testbed.from_file()\n",
    "print(tb2)\n",
    "\n",
    "# tb = tb2"
   ]
  },
  {
   "cell_type": "markdown",
   "id": "afc1ba02-d5b6-4b38-b3b7-880d61d77f8e",
   "metadata": {},
   "source": [
    "# Combat\n",
    "\n",
    "Run the combat with paper cards. Use this notebook to record damage."
   ]
  },
  {
   "cell_type": "code",
   "execution_count": null,
   "id": "5549572d-7920-4fb8-bd95-44fb425fa514",
   "metadata": {},
   "outputs": [],
   "source": [
    "encounter = Encounter(\n",
    "    [\n",
    "        Enemy(\"Fuckbo\", EnemyType.CRINGELORD),\n",
    "    ],\n",
    ")\n",
    "print(encounter)"
   ]
  },
  {
   "cell_type": "markdown",
   "id": "05a54280-7cde-4dc1-988a-c4df4fc75fa3",
   "metadata": {},
   "source": [
    "Repeat the folllowing steps"
   ]
  },
  {
   "cell_type": "code",
   "execution_count": null,
   "id": "c7de1652-031e-43c4-be58-00b8d3929127",
   "metadata": {},
   "outputs": [],
   "source": [
    "print(encounter)\n",
    "print(tb.shop.level.desc)\n",
    "tb.print_roster()"
   ]
  },
  {
   "cell_type": "code",
   "execution_count": null,
   "id": "ffc2c8db-eb67-4f81-bd29-d80ca9b9f8cc",
   "metadata": {},
   "outputs": [],
   "source": [
    "encounter.enemies[\"Fuckbo\"].damage(3)"
   ]
  },
  {
   "cell_type": "code",
   "execution_count": null,
   "id": "097ca1ae-f498-46ac-a0c0-bcff33afe64d",
   "metadata": {},
   "outputs": [],
   "source": [
    "tb.companions[\"DeltaWarrior\"].damage(12)"
   ]
  },
  {
   "cell_type": "code",
   "execution_count": null,
   "id": "4c47e5b2-7c81-4ee0-ad19-47d8cf700213",
   "metadata": {},
   "outputs": [],
   "source": [
    "encounter.end_turn()"
   ]
  },
  {
   "cell_type": "markdown",
   "id": "5bdadc69-f619-4a08-9d77-134ef11fe4be",
   "metadata": {},
   "source": [
    "# Shop\n",
    "\n",
    "After combat, you get a reward and you get to view the shop."
   ]
  },
  {
   "cell_type": "code",
   "execution_count": null,
   "id": "d67e8d35-311f-4138-a05e-527fc9652cba",
   "metadata": {},
   "outputs": [],
   "source": [
    "# POST-COMBAT stat adjustments.\n",
    "# Remember to remove cards from the deck for the entropy.\n",
    "\n",
    "# If your warrior dies for example, revive at 1 hp and increase the strength.\n",
    "tb.companions[\"DeltaWarrior\"].increase_strength(1)\n",
    "tb.companions[\"DeltaWarrior\"].health = 1\n",
    "# tb.companions[\"GammaEntropy\"].health = 17\n",
    "tb.print_roster()"
   ]
  },
  {
   "cell_type": "code",
   "execution_count": null,
   "id": "19e7e055-8847-4e3e-bd3e-0d10b5ca78a7",
   "metadata": {},
   "outputs": [],
   "source": [
    "# POST-COMBAT procedure\n",
    "tb.generate_shop_post_combat()"
   ]
  },
  {
   "cell_type": "code",
   "execution_count": null,
   "id": "40953bf4-a4d6-4b0b-b884-ecff546bcc95",
   "metadata": {},
   "outputs": [],
   "source": [
    "tb.reroll_cards()"
   ]
  },
  {
   "cell_type": "code",
   "execution_count": null,
   "id": "25539f03-1be3-4929-9dfe-59f2e3140bf1",
   "metadata": {},
   "outputs": [],
   "source": [
    "# In this block, write actions on the shop.\n",
    "tb.shop.upgrade()\n",
    "tb.print_roster()"
   ]
  },
  {
   "cell_type": "code",
   "execution_count": null,
   "id": "7d8189e0-f20e-4a40-a102-c5b86ca94bde",
   "metadata": {},
   "outputs": [],
   "source": [
    "print(tb.shop)"
   ]
  },
  {
   "cell_type": "code",
   "execution_count": null,
   "id": "0283ac57-f4be-4264-9976-2ff0cc56e1bb",
   "metadata": {},
   "outputs": [],
   "source": []
  },
  {
   "cell_type": "code",
   "execution_count": null,
   "id": "2cf02fb6-86fa-4a93-a70d-3145774feae0",
   "metadata": {},
   "outputs": [],
   "source": []
  }
 ],
 "metadata": {
  "kernelspec": {
   "display_name": "Python 3 (ipykernel)",
   "language": "python",
   "name": "python3"
  },
  "language_info": {
   "codemirror_mode": {
    "name": "ipython",
    "version": 3
   },
   "file_extension": ".py",
   "mimetype": "text/x-python",
   "name": "python",
   "nbconvert_exporter": "python",
   "pygments_lexer": "ipython3",
   "version": "3.8.5"
  }
 },
 "nbformat": 4,
 "nbformat_minor": 5
}
