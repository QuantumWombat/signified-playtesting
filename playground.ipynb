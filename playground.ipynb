{
 "cells": [
  {
   "cell_type": "code",
   "execution_count": 1,
   "id": "45891e97-ca72-4043-983e-6115dc0c92ec",
   "metadata": {},
   "outputs": [],
   "source": [
    "from src import *"
   ]
  },
  {
   "cell_type": "markdown",
   "id": "b8f7c4ed-3bf0-4089-bfb5-91e59d6cca91",
   "metadata": {},
   "source": [
    "# Start the Game\n",
    "\n",
    "You get a few companions to start the game with, chosen at random."
   ]
  },
  {
   "cell_type": "code",
   "execution_count": 2,
   "id": "a2ec5c0f-6b82-457c-9404-a8b82655c76e",
   "metadata": {},
   "outputs": [
    {
     "name": "stdout",
     "output_type": "stream",
     "text": [
      "Using seed 100\n",
      "ROSTER\n",
      "D-Architect: 1⚔️ 10/10💖\n",
      "C-Entropy: 1⚔️ 10/10💖\n",
      "D-Pythia: 1⚔️ 10/10💖\n",
      "\n",
      "Shop level: 1: Energy: 3, Max Team Size: 3\n",
      "\n",
      "Your current gold: 0\n",
      "\n",
      "COMPANIONS (4 gold): \n",
      "\n",
      "CARDS (3 gold): \n",
      "\n",
      "\n",
      "UPGRADE (4 gold)\n",
      "\n",
      "REROLL (1 gold)\n"
     ]
    }
   ],
   "source": [
    "tb = Testbed(seed=100)\n",
    "print(tb)"
   ]
  },
  {
   "cell_type": "markdown",
   "id": "f91e8194-1a3e-459f-8ae2-e0bff069d2c6",
   "metadata": {},
   "source": [
    "# (Optional) Restore your Progress\n",
    "\n",
    "If you want to save the state of a playtesting session to make changes to the code or resume it later, use the following code to save and restore the Testbed object."
   ]
  },
  {
   "cell_type": "code",
   "execution_count": 95,
   "id": "ebe2bae8-b821-495f-9f01-b9758ba2081f",
   "metadata": {},
   "outputs": [],
   "source": [
    "tb.save_to_file()"
   ]
  },
  {
   "cell_type": "code",
   "execution_count": null,
   "id": "3bbed9dd-1522-4cab-863d-e087f4ee3f7d",
   "metadata": {},
   "outputs": [],
   "source": [
    "tb2 = Testbed.from_file()\n",
    "print(tb2)\n",
    "\n",
    "# tb = tb2"
   ]
  },
  {
   "cell_type": "markdown",
   "id": "afc1ba02-d5b6-4b38-b3b7-880d61d77f8e",
   "metadata": {},
   "source": [
    "# Combat\n",
    "\n",
    "Run the combat with paper cards. Use this notebook to record damage."
   ]
  },
  {
   "cell_type": "code",
   "execution_count": 6,
   "id": "5549572d-7920-4fb8-bd95-44fb425fa514",
   "metadata": {},
   "outputs": [
    {
     "name": "stdout",
     "output_type": "stream",
     "text": [
      "😈 Bob, Cringelord: 40/40💖. Attacking for 10\n",
      "😈 BigBoy, Cringelord: 40/40💖. Attacking for 10\n"
     ]
    }
   ],
   "source": [
    "encounter = Encounter(\n",
    "    [\n",
    "        Enemy(\"Bob\", EnemyType.CRINGELORD),\n",
    "        Enemy(\"BigBoy\", EnemyType.CRINGELORD),\n",
    "    ],\n",
    ")\n",
    "print(encounter)"
   ]
  },
  {
   "cell_type": "markdown",
   "id": "05a54280-7cde-4dc1-988a-c4df4fc75fa3",
   "metadata": {},
   "source": [
    "Repeat the folllowing steps"
   ]
  },
  {
   "cell_type": "code",
   "execution_count": 91,
   "id": "c7de1652-031e-43c4-be58-00b8d3929127",
   "metadata": {},
   "outputs": [
    {
     "name": "stdout",
     "output_type": "stream",
     "text": [
      "😈 Bob, Cringelord: 7/40💖. Attacking for 12\n",
      "😈 BigBoy, Cringelord: 0/40💖. Attacking for 12\n",
      "Energy: 3, Max Team Size 4\n",
      "ROSTER\n",
      "DeltaWarrior: 3⚔️ 1/20💖\n",
      "GammaEntropy: 1⚔️ -19/20💖\n",
      "DeltaArchitect: 1⚔️ 0/20💖\n",
      "BetaArchitect: 1⚔️ 5/20💖\n",
      "\n"
     ]
    }
   ],
   "source": [
    "print(encounter)\n",
    "print(tb.shop.level.desc)\n",
    "tb.print_roster()"
   ]
  },
  {
   "cell_type": "code",
   "execution_count": 87,
   "id": "ffc2c8db-eb67-4f81-bd29-d80ca9b9f8cc",
   "metadata": {},
   "outputs": [
    {
     "name": "stdout",
     "output_type": "stream",
     "text": [
      "😈 BigBoy, Cringelord: 0/40💖. Attacking for 11\n",
      "Entity BigBoy died\n"
     ]
    }
   ],
   "source": [
    "encounter.enemies[\"BigBoy\"].damage(4)"
   ]
  },
  {
   "cell_type": "code",
   "execution_count": 88,
   "id": "0e8cfaed-7b99-4769-a9a6-14bbc0b8a1b7",
   "metadata": {},
   "outputs": [
    {
     "name": "stdout",
     "output_type": "stream",
     "text": [
      "😈 Bob, Cringelord: 7/40💖. Attacking for 11\n"
     ]
    }
   ],
   "source": [
    "encounter.enemies[\"Bob\"].damage(33)"
   ]
  },
  {
   "cell_type": "code",
   "execution_count": 89,
   "id": "097ca1ae-f498-46ac-a0c0-bcff33afe64d",
   "metadata": {},
   "outputs": [
    {
     "name": "stdout",
     "output_type": "stream",
     "text": [
      "GammaEntropy: 1⚔️ -19/20💖\n",
      "Entity GammaEntropy died\n"
     ]
    }
   ],
   "source": [
    "tb.companions[\"GammaEntropy\"].damage(20)"
   ]
  },
  {
   "cell_type": "code",
   "execution_count": 90,
   "id": "4c47e5b2-7c81-4ee0-ad19-47d8cf700213",
   "metadata": {},
   "outputs": [
    {
     "name": "stdout",
     "output_type": "stream",
     "text": [
      "End of turn 2\n",
      "😈 Bob, Cringelord: 7/40💖. Attacking for 12\n",
      "😈 BigBoy, Cringelord: 0/40💖. Attacking for 12\n"
     ]
    }
   ],
   "source": [
    "encounter.end_turn()"
   ]
  },
  {
   "cell_type": "markdown",
   "id": "5bdadc69-f619-4a08-9d77-134ef11fe4be",
   "metadata": {},
   "source": [
    "# Shop\n",
    "\n",
    "After combat, you get a reward and you get to view the shop."
   ]
  },
  {
   "cell_type": "code",
   "execution_count": 92,
   "id": "d67e8d35-311f-4138-a05e-527fc9652cba",
   "metadata": {},
   "outputs": [
    {
     "name": "stdout",
     "output_type": "stream",
     "text": [
      "ROSTER\n",
      "DeltaWarrior: 3⚔️ 1/20💖\n",
      "GammaEntropy: 1⚔️ -19/20💖\n",
      "DeltaArchitect: 1⚔️ 0/20💖\n",
      "BetaArchitect: 1⚔️ 5/20💖\n",
      "\n"
     ]
    }
   ],
   "source": [
    "# POST-COMBAT stat adjustments.\n",
    "# Remember to remove cards from the deck for the entropy.\n",
    "\n",
    "# If your warrior dies for example, revive at 1 hp and increase the strength.\n",
    "# tb.companions[\"DeltaWarrior\"].increase_strength(1)\n",
    "# tb.companions[\"DeltaWarrior\"].health = 1\n",
    "# tb.companions[\"GammaEntropy\"].health = 1\n",
    "tb.print_roster()"
   ]
  },
  {
   "cell_type": "code",
   "execution_count": 93,
   "id": "74233381-f885-40ad-bd02-245227e5c4a8",
   "metadata": {},
   "outputs": [],
   "source": [
    "COMBAT_REWARD_GOLD = 10"
   ]
  },
  {
   "cell_type": "code",
   "execution_count": 3,
   "id": "19e7e055-8847-4e3e-bd3e-0d10b5ca78a7",
   "metadata": {},
   "outputs": [
    {
     "name": "stdout",
     "output_type": "stream",
     "text": [
      "Generating shop for Encounter #1\n",
      "You earned $5 gold for the combat\n",
      "ROSTER\n",
      "D-Architect: 1⚔️ 10/10💖\n",
      "C-Entropy: 1⚔️ 10/10💖\n",
      "D-Pythia: 1⚔️ 10/10💖\n",
      "\n",
      "Shop level: 1: Energy: 3, Max Team Size: 3\n",
      "\n",
      "Your current gold: 5\n",
      "\n",
      "COMPANIONS (4 gold): Pythia, Clown\n",
      "\n",
      "CARDS (3 gold): \n",
      "Sooty Armor: give a companion X block and exhaust the top card of their deck\n",
      "Protect for each orb: target companion gets X block for each orb they have\n",
      "Strength for all with an orb: each companion with at least one orb gets X strength\n",
      "\n",
      "UPGRADE (4 gold)\n",
      "\n",
      "REROLL (1 gold)\n"
     ]
    }
   ],
   "source": [
    "# POST-COMBAT procedure\n",
    "tb.generate_shop_post_combat()"
   ]
  },
  {
   "cell_type": "code",
   "execution_count": 77,
   "id": "66ea9ff4-d1f2-40da-884c-0836d9acd600",
   "metadata": {},
   "outputs": [
    {
     "name": "stdout",
     "output_type": "stream",
     "text": [
      "give a companion X strength, shuffle in status card go to 1 health. deal double dmg for rest of combat deal 8 damage to all enemies\n"
     ]
    }
   ],
   "source": [
    "print(\n",
    "    Card.FIERY_ENCOURAGEMENT.description,\n",
    "    Card.FINAL_FORM.description,\n",
    "    Card.VENGEFUL_SWEEP.description,\n",
    ")"
   ]
  },
  {
   "cell_type": "code",
   "execution_count": 78,
   "id": "40953bf4-a4d6-4b0b-b884-ecff546bcc95",
   "metadata": {},
   "outputs": [],
   "source": [
    "tb.buy_card(Card.FINAL_FORM)"
   ]
  },
  {
   "cell_type": "code",
   "execution_count": 54,
   "id": "41c7e7d0-3cc2-41aa-b902-e2a560c931a3",
   "metadata": {},
   "outputs": [
    {
     "name": "stdout",
     "output_type": "stream",
     "text": [
      "ROSTER\n",
      "DeltaWarrior: 3⚔️ 1/20💖\n",
      "GammaEntropy: 1⚔️ 1/20💖\n",
      "DeltaArchitect: 1⚔️ 20/20💖\n",
      "BetaArchitect: 1⚔️ 20/20💖\n",
      "\n"
     ]
    }
   ],
   "source": [
    "tb.print_roster()"
   ]
  },
  {
   "cell_type": "code",
   "execution_count": 24,
   "id": "25539f03-1be3-4929-9dfe-59f2e3140bf1",
   "metadata": {},
   "outputs": [
    {
     "name": "stdout",
     "output_type": "stream",
     "text": [
      "ROSTER\n",
      "DeltaWarrior: 2⚔️ 1/20💖\n",
      "GammaEntropy: 1⚔️ 20/20💖\n",
      "DeltaArchitect: 1⚔️ 20/20💖\n",
      "\n"
     ]
    }
   ],
   "source": [
    "# In this block, write actions on the shop.\n",
    "tb.shop.upgrade()\n",
    "tb.print_roster()"
   ]
  },
  {
   "cell_type": "code",
   "execution_count": 79,
   "id": "7d8189e0-f20e-4a40-a102-c5b86ca94bde",
   "metadata": {},
   "outputs": [
    {
     "name": "stdout",
     "output_type": "stream",
     "text": [
      "ROSTER\n",
      "DeltaWarrior: 3⚔️ 1/20💖\n",
      "GammaEntropy: 1⚔️ 1/20💖\n",
      "DeltaArchitect: 1⚔️ 20/20💖\n",
      "BetaArchitect: 1⚔️ 5/20💖\n",
      "\n",
      "Shop level: 2: Energy: 3, Max Team Size 4\n",
      "\n",
      "Your current gold: 4\n",
      "\n",
      "COMPANIONS (4 gold): Warrior, Architect, Pythia\n",
      "\n",
      "CARDS (3 gold): Vengeful Sweep, Mitosis, Fiery Encouragement\n",
      "\n",
      "UPGRADE (8 gold)\n",
      "\n",
      "REROLL (1 gold)\n"
     ]
    }
   ],
   "source": [
    "print(tb)"
   ]
  },
  {
   "cell_type": "code",
   "execution_count": 23,
   "id": "0283ac57-f4be-4264-9976-2ff0cc56e1bb",
   "metadata": {},
   "outputs": [
    {
     "data": {
      "text/plain": [
       "'draw a card for each artifact you control'"
      ]
     },
     "execution_count": 23,
     "metadata": {},
     "output_type": "execute_result"
    }
   ],
   "source": [
    "Card.IDEATE.description"
   ]
  },
  {
   "cell_type": "code",
   "execution_count": null,
   "id": "2cf02fb6-86fa-4a93-a70d-3145774feae0",
   "metadata": {},
   "outputs": [],
   "source": []
  }
 ],
 "metadata": {
  "kernelspec": {
   "display_name": "Python 3 (ipykernel)",
   "language": "python",
   "name": "python3"
  },
  "language_info": {
   "codemirror_mode": {
    "name": "ipython",
    "version": 3
   },
   "file_extension": ".py",
   "mimetype": "text/x-python",
   "name": "python",
   "nbconvert_exporter": "python",
   "pygments_lexer": "ipython3",
   "version": "3.8.5"
  }
 },
 "nbformat": 4,
 "nbformat_minor": 5
}
