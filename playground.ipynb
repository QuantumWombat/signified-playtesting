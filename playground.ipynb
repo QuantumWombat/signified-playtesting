{
 "cells": [
  {
   "cell_type": "code",
   "execution_count": null,
   "id": "45891e97-ca72-4043-983e-6115dc0c92ec",
   "metadata": {},
   "outputs": [],
   "source": [
    "from src import *"
   ]
  },
  {
   "cell_type": "code",
   "execution_count": null,
   "id": "a2ec5c0f-6b82-457c-9404-a8b82655c76e",
   "metadata": {},
   "outputs": [],
   "source": [
    "tb = Testbed()"
   ]
  },
  {
   "cell_type": "code",
   "execution_count": null,
   "id": "69b08ab1-728d-4ef8-8510-ba3984972b4a",
   "metadata": {},
   "outputs": [],
   "source": [
    "s = Shop()\n",
    "opts = s.generate_card_options([CompanionType.ENTROPY_COMPANION])\n",
    "print(opts)"
   ]
  },
  {
   "cell_type": "code",
   "execution_count": null,
   "id": "b5622c9b-c49e-40a8-9e4a-a72970938ff4",
   "metadata": {},
   "outputs": [],
   "source": []
  }
 ],
 "metadata": {
  "kernelspec": {
   "display_name": "Python 3 (ipykernel)",
   "language": "python",
   "name": "python3"
  },
  "language_info": {
   "codemirror_mode": {
    "name": "ipython",
    "version": 3
   },
   "file_extension": ".py",
   "mimetype": "text/x-python",
   "name": "python",
   "nbconvert_exporter": "python",
   "pygments_lexer": "ipython3",
   "version": "3.8.5"
  }
 },
 "nbformat": 4,
 "nbformat_minor": 5
}
