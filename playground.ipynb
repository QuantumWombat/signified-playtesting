{
 "cells": [
  {
   "cell_type": "code",
   "execution_count": 1,
   "id": "45891e97-ca72-4043-983e-6115dc0c92ec",
   "metadata": {},
   "outputs": [],
   "source": [
    "from src import *"
   ]
  },
  {
   "cell_type": "code",
   "execution_count": 4,
   "id": "a2ec5c0f-6b82-457c-9404-a8b82655c76e",
   "metadata": {},
   "outputs": [
    {
     "name": "stdout",
     "output_type": "stream",
     "text": [
      "[<CompanionType.ARCHITECT: 'Architect'>, <CompanionType.ENTROPY: 'Entropy'>, <CompanionType.ENTROPY: 'Entropy'>]\n"
     ]
    }
   ],
   "source": [
    "tb = Testbed()"
   ]
  },
  {
   "cell_type": "code",
   "execution_count": 5,
   "id": "69b08ab1-728d-4ef8-8510-ba3984972b4a",
   "metadata": {},
   "outputs": [
    {
     "ename": "AttributeError",
     "evalue": "ENTROPY_COMPANION",
     "output_type": "error",
     "traceback": [
      "\u001b[0;31m---------------------------------------------------------------------------\u001b[0m",
      "\u001b[0;31mAttributeError\u001b[0m                            Traceback (most recent call last)",
      "Cell \u001b[0;32mIn[5], line 2\u001b[0m\n\u001b[1;32m      1\u001b[0m s \u001b[38;5;241m=\u001b[39m Shop()\n\u001b[0;32m----> 2\u001b[0m opts \u001b[38;5;241m=\u001b[39m s\u001b[38;5;241m.\u001b[39mgenerate_card_options([\u001b[43mCompanionType\u001b[49m\u001b[38;5;241;43m.\u001b[39;49m\u001b[43mENTROPY_COMPANION\u001b[49m])\n\u001b[1;32m      3\u001b[0m \u001b[38;5;28mprint\u001b[39m(opts)\n",
      "File \u001b[0;32m/usr/lib/python3.8/enum.py:346\u001b[0m, in \u001b[0;36mEnumMeta.__getattr__\u001b[0;34m(cls, name)\u001b[0m\n\u001b[1;32m    344\u001b[0m     \u001b[38;5;28;01mreturn\u001b[39;00m \u001b[38;5;28mcls\u001b[39m\u001b[38;5;241m.\u001b[39m_member_map_[name]\n\u001b[1;32m    345\u001b[0m \u001b[38;5;28;01mexcept\u001b[39;00m \u001b[38;5;167;01mKeyError\u001b[39;00m:\n\u001b[0;32m--> 346\u001b[0m     \u001b[38;5;28;01mraise\u001b[39;00m \u001b[38;5;167;01mAttributeError\u001b[39;00m(name) \u001b[38;5;28;01mfrom\u001b[39;00m \u001b[38;5;28;01mNone\u001b[39;00m\n",
      "\u001b[0;31mAttributeError\u001b[0m: ENTROPY_COMPANION"
     ]
    }
   ],
   "source": [
    "s = Shop()\n",
    "opts = s.generate_card_options([CompanionType.ENTROPY])\n",
    "print(opts)"
   ]
  },
  {
   "cell_type": "code",
   "execution_count": null,
   "id": "b5622c9b-c49e-40a8-9e4a-a72970938ff4",
   "metadata": {},
   "outputs": [],
   "source": []
  }
 ],
 "metadata": {
  "kernelspec": {
   "display_name": "Python 3 (ipykernel)",
   "language": "python",
   "name": "python3"
  },
  "language_info": {
   "codemirror_mode": {
    "name": "ipython",
    "version": 3
   },
   "file_extension": ".py",
   "mimetype": "text/x-python",
   "name": "python",
   "nbconvert_exporter": "python",
   "pygments_lexer": "ipython3",
   "version": "3.8.5"
  }
 },
 "nbformat": 4,
 "nbformat_minor": 5
}
