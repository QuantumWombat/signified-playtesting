{
 "cells": [
  {
   "cell_type": "code",
   "execution_count": 1,
   "id": "45891e97-ca72-4043-983e-6115dc0c92ec",
   "metadata": {},
   "outputs": [],
   "source": [
    "from src import *"
   ]
  },
  {
   "cell_type": "code",
   "execution_count": 2,
   "id": "a2ec5c0f-6b82-457c-9404-a8b82655c76e",
   "metadata": {},
   "outputs": [],
   "source": [
    "enemy = Enemy(\"Richard\")"
   ]
  },
  {
   "cell_type": "code",
   "execution_count": 3,
   "id": "69b08ab1-728d-4ef8-8510-ba3984972b4a",
   "metadata": {},
   "outputs": [],
   "source": [
    "enemy.damage(4)"
   ]
  },
  {
   "cell_type": "code",
   "execution_count": 4,
   "id": "5ebc9970-447f-4da9-9acb-26124f06ea99",
   "metadata": {},
   "outputs": [
    {
     "name": "stdout",
     "output_type": "stream",
     "text": [
      "😈 Richard: 16/20💖\n"
     ]
    }
   ],
   "source": [
    "print(enemy)"
   ]
  },
  {
   "cell_type": "code",
   "execution_count": 5,
   "id": "ef784a82-9c89-4eb8-85c1-2bafca0b8323",
   "metadata": {},
   "outputs": [],
   "source": [
    "companion = Companion(\"Pikachu\")"
   ]
  },
  {
   "cell_type": "code",
   "execution_count": 6,
   "id": "a18ff148-582e-4491-80ee-f37f19a44922",
   "metadata": {},
   "outputs": [
    {
     "name": "stdout",
     "output_type": "stream",
     "text": [
      "Pikachu: 1⚔️ 20/20💖\n"
     ]
    }
   ],
   "source": [
    "print(companion)"
   ]
  },
  {
   "cell_type": "code",
   "execution_count": 7,
   "id": "3c3d6768-9ada-4ee7-9aae-f1467a4d28b9",
   "metadata": {},
   "outputs": [],
   "source": [
    "encounter = Encounter()"
   ]
  },
  {
   "cell_type": "code",
   "execution_count": 8,
   "id": "d2fffb28-1cca-45d0-8516-39b906bbad15",
   "metadata": {},
   "outputs": [],
   "source": [
    "encounter.add_enemy(enemy)"
   ]
  },
  {
   "cell_type": "code",
   "execution_count": 9,
   "id": "7152335b-ef22-4353-9fbb-cfd3bc9151cd",
   "metadata": {},
   "outputs": [],
   "source": [
    "encounter.add_enemy(Enemy(\"foo\"))"
   ]
  },
  {
   "cell_type": "code",
   "execution_count": 10,
   "id": "104736c5-06de-4f44-8b69-2e829154ac7d",
   "metadata": {},
   "outputs": [
    {
     "name": "stdout",
     "output_type": "stream",
     "text": [
      "😈 Richard: 16/20💖\n",
      "😈 foo: 20/20💖\n"
     ]
    }
   ],
   "source": [
    "print(encounter)"
   ]
  },
  {
   "cell_type": "code",
   "execution_count": null,
   "id": "b5622c9b-c49e-40a8-9e4a-a72970938ff4",
   "metadata": {},
   "outputs": [],
   "source": []
  }
 ],
 "metadata": {
  "kernelspec": {
   "display_name": "Python 3 (ipykernel)",
   "language": "python",
   "name": "python3"
  },
  "language_info": {
   "codemirror_mode": {
    "name": "ipython",
    "version": 3
   },
   "file_extension": ".py",
   "mimetype": "text/x-python",
   "name": "python",
   "nbconvert_exporter": "python",
   "pygments_lexer": "ipython3",
   "version": "3.8.5"
  }
 },
 "nbformat": 4,
 "nbformat_minor": 5
}
