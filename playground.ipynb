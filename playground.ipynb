{
 "cells": [
  {
   "cell_type": "code",
   "execution_count": 1,
   "id": "45891e97-ca72-4043-983e-6115dc0c92ec",
   "metadata": {},
   "outputs": [],
   "source": [
    "from src import *"
   ]
  },
  {
   "cell_type": "markdown",
   "id": "b8f7c4ed-3bf0-4089-bfb5-91e59d6cca91",
   "metadata": {},
   "source": [
    "# Start the Game\n",
    "\n",
    "You get a few companions to start the game with, chosen at random."
   ]
  },
  {
   "cell_type": "code",
   "execution_count": 2,
   "id": "a2ec5c0f-6b82-457c-9404-a8b82655c76e",
   "metadata": {},
   "outputs": [
    {
     "name": "stdout",
     "output_type": "stream",
     "text": [
      "ROSTER\n",
      "JimothyArchitect: 1⚔️ 20/20💖\n",
      "FooEntropy: 1⚔️ 20/20💖\n",
      "WizardEntropy: 1⚔️ 20/20💖\n",
      "\n",
      "Your current gold: 0\n",
      "\n",
      "COMPANIONS (4 gold): \n",
      "\n",
      "CARDS (3 gold): \n",
      "\n",
      "UPGRADE (4 gold)\n",
      "\n",
      "REROLL (1 gold)\n"
     ]
    }
   ],
   "source": [
    "tb = Testbed()\n",
    "print(tb)"
   ]
  },
  {
   "cell_type": "markdown",
   "id": "afc1ba02-d5b6-4b38-b3b7-880d61d77f8e",
   "metadata": {},
   "source": [
    "# Combat\n",
    "\n",
    "Run the combat with paper cards. Use this notebook to record damage."
   ]
  },
  {
   "cell_type": "code",
   "execution_count": 3,
   "id": "5549572d-7920-4fb8-bd95-44fb425fa514",
   "metadata": {},
   "outputs": [
    {
     "name": "stdout",
     "output_type": "stream",
     "text": [
      "😈 Steven Rinkus: 20/20💖\n",
      "😈 Thief: 20/20💖\n"
     ]
    }
   ],
   "source": [
    "encounter = Encounter()\n",
    "encounter.add_enemy(Enemy(\"Steven Rinkus\"))\n",
    "encounter.add_enemy(Enemy(\"Thief\"))\n",
    "print(encounter)"
   ]
  },
  {
   "cell_type": "code",
   "execution_count": 4,
   "id": "ffc2c8db-eb67-4f81-bd29-d80ca9b9f8cc",
   "metadata": {},
   "outputs": [
    {
     "name": "stdout",
     "output_type": "stream",
     "text": [
      "😈 Steven Rinkus: 10/20💖\n"
     ]
    }
   ],
   "source": [
    "encounter.enemies[\"Steven Rinkus\"].damage(10)"
   ]
  },
  {
   "cell_type": "code",
   "execution_count": 8,
   "id": "097ca1ae-f498-46ac-a0c0-bcff33afe64d",
   "metadata": {},
   "outputs": [
    {
     "name": "stdout",
     "output_type": "stream",
     "text": [
      "JimothyArchitect: 1⚔️ 15/20💖\n"
     ]
    }
   ],
   "source": [
    "tb.companions[\"JimothyArchitect\"].damage(5)"
   ]
  },
  {
   "cell_type": "code",
   "execution_count": 6,
   "id": "7db7bc55-34b1-489a-8c5c-38c63c7cd974",
   "metadata": {},
   "outputs": [
    {
     "name": "stdout",
     "output_type": "stream",
     "text": [
      "ROSTER\n",
      "JimothyArchitect: 1⚔️ 20/20💖\n",
      "FooEntropy: 1⚔️ 20/20💖\n",
      "WizardEntropy: 1⚔️ 20/20💖\n",
      "\n"
     ]
    }
   ],
   "source": [
    "tb.print_roster()"
   ]
  },
  {
   "cell_type": "markdown",
   "id": "5bdadc69-f619-4a08-9d77-134ef11fe4be",
   "metadata": {},
   "source": [
    "# Shop\n",
    "\n",
    "After combat, you get a reward and you get to view the shop."
   ]
  },
  {
   "cell_type": "code",
   "execution_count": 9,
   "id": "19e7e055-8847-4e3e-bd3e-0d10b5ca78a7",
   "metadata": {},
   "outputs": [
    {
     "name": "stdout",
     "output_type": "stream",
     "text": [
      "Generating shop for Encounter #0\n",
      "You earned $5 gold for the combat\n",
      "ROSTER\n",
      "JimothyArchitect: 1⚔️ 15/20💖\n",
      "FooEntropy: 1⚔️ 20/20💖\n",
      "WizardEntropy: 1⚔️ 20/20💖\n",
      "\n",
      "Your current gold: 5\n",
      "\n",
      "COMPANIONS (4 gold): Architect, Architect\n",
      "\n",
      "CARDS (3 gold): Bellows, Bellows\n",
      "\n",
      "UPGRADE (4 gold)\n",
      "\n",
      "REROLL (1 gold)\n"
     ]
    }
   ],
   "source": [
    "# POST-COMBAT procedure\n",
    "tb.generate_shop_post_combat()"
   ]
  },
  {
   "cell_type": "code",
   "execution_count": 10,
   "id": "25539f03-1be3-4929-9dfe-59f2e3140bf1",
   "metadata": {},
   "outputs": [
    {
     "name": "stdout",
     "output_type": "stream",
     "text": [
      "ROSTER\n",
      "JimothyArchitect: 1⚔️ 15/20💖\n",
      "FooEntropy: 1⚔️ 20/20💖\n",
      "WizardEntropy: 1⚔️ 20/20💖\n",
      "MarmotArchitect: 1⚔️ 20/20💖\n",
      "\n"
     ]
    }
   ],
   "source": [
    "# In this block, write actions on the shop.\n",
    "tb.buy_companion(CompanionType.ARCHITECT)\n",
    "tb.print_roster()"
   ]
  },
  {
   "cell_type": "code",
   "execution_count": 12,
   "id": "7d8189e0-f20e-4a40-a102-c5b86ca94bde",
   "metadata": {},
   "outputs": [
    {
     "name": "stdout",
     "output_type": "stream",
     "text": [
      "Your current gold: 1\n",
      "\n",
      "COMPANIONS (4 gold): Architect\n",
      "\n",
      "CARDS (3 gold): Bellows, Bellows\n",
      "\n",
      "UPGRADE (4 gold)\n",
      "\n",
      "REROLL (1 gold)\n"
     ]
    }
   ],
   "source": [
    "print(tb.shop)"
   ]
  },
  {
   "cell_type": "code",
   "execution_count": null,
   "id": "0283ac57-f4be-4264-9976-2ff0cc56e1bb",
   "metadata": {},
   "outputs": [],
   "source": []
  }
 ],
 "metadata": {
  "kernelspec": {
   "display_name": "Python 3 (ipykernel)",
   "language": "python",
   "name": "python3"
  },
  "language_info": {
   "codemirror_mode": {
    "name": "ipython",
    "version": 3
   },
   "file_extension": ".py",
   "mimetype": "text/x-python",
   "name": "python",
   "nbconvert_exporter": "python",
   "pygments_lexer": "ipython3",
   "version": "3.8.5"
  }
 },
 "nbformat": 4,
 "nbformat_minor": 5
}
