{
 "cells": [
  {
   "cell_type": "code",
   "execution_count": 1,
   "id": "45891e97-ca72-4043-983e-6115dc0c92ec",
   "metadata": {},
   "outputs": [
    {
     "ename": "TypeError",
     "evalue": "Cannot extend enumerations",
     "output_type": "error",
     "traceback": [
      "\u001b[0;31m---------------------------------------------------------------------------\u001b[0m",
      "\u001b[0;31mTypeError\u001b[0m                                 Traceback (most recent call last)",
      "Cell \u001b[0;32mIn[1], line 1\u001b[0m\n\u001b[0;32m----> 1\u001b[0m \u001b[38;5;28;01mfrom\u001b[39;00m \u001b[38;5;21;01msrc\u001b[39;00m \u001b[38;5;28;01mimport\u001b[39;00m \u001b[38;5;241m*\u001b[39m\n",
      "File \u001b[0;32m~/signified-playtesting/src/__init__.py:2\u001b[0m\n\u001b[1;32m      1\u001b[0m \u001b[38;5;28;01mfrom\u001b[39;00m \u001b[38;5;21;01m.\u001b[39;00m\u001b[38;5;21;01mentity\u001b[39;00m \u001b[38;5;28;01mimport\u001b[39;00m \u001b[38;5;241m*\u001b[39m\n\u001b[0;32m----> 2\u001b[0m \u001b[38;5;28;01mfrom\u001b[39;00m \u001b[38;5;21;01m.\u001b[39;00m\u001b[38;5;21;01mtestbed\u001b[39;00m \u001b[38;5;28;01mimport\u001b[39;00m \u001b[38;5;241m*\u001b[39m\n\u001b[1;32m      3\u001b[0m \u001b[38;5;28;01mfrom\u001b[39;00m \u001b[38;5;21;01m.\u001b[39;00m\u001b[38;5;21;01mcard\u001b[39;00m \u001b[38;5;28;01mimport\u001b[39;00m \u001b[38;5;241m*\u001b[39m\n\u001b[1;32m      4\u001b[0m \u001b[38;5;28;01mfrom\u001b[39;00m \u001b[38;5;21;01m.\u001b[39;00m\u001b[38;5;21;01mcompanion\u001b[39;00m \u001b[38;5;28;01mimport\u001b[39;00m \u001b[38;5;241m*\u001b[39m\n",
      "File \u001b[0;32m~/signified-playtesting/src/testbed.py:7\u001b[0m\n\u001b[1;32m      5\u001b[0m \u001b[38;5;28;01mimport\u001b[39;00m \u001b[38;5;21;01mrandom\u001b[39;00m\n\u001b[1;32m      6\u001b[0m \u001b[38;5;28;01mfrom\u001b[39;00m \u001b[38;5;21;01mtyping\u001b[39;00m \u001b[38;5;28;01mimport\u001b[39;00m Dict, List\n\u001b[0;32m----> 7\u001b[0m \u001b[38;5;28;01mfrom\u001b[39;00m \u001b[38;5;21;01msrc\u001b[39;00m\u001b[38;5;21;01m.\u001b[39;00m\u001b[38;5;21;01mcard\u001b[39;00m \u001b[38;5;28;01mimport\u001b[39;00m Card\n\u001b[1;32m      9\u001b[0m \u001b[38;5;28;01mfrom\u001b[39;00m \u001b[38;5;21;01msrc\u001b[39;00m\u001b[38;5;21;01m.\u001b[39;00m\u001b[38;5;21;01menemy\u001b[39;00m \u001b[38;5;28;01mimport\u001b[39;00m Enemy\n\u001b[1;32m     10\u001b[0m \u001b[38;5;28;01mfrom\u001b[39;00m \u001b[38;5;21;01msrc\u001b[39;00m\u001b[38;5;21;01m.\u001b[39;00m\u001b[38;5;21;01mcompanion\u001b[39;00m \u001b[38;5;28;01mimport\u001b[39;00m Companion, CompanionType\n",
      "File \u001b[0;32m~/signified-playtesting/src/card.py:43\u001b[0m\n\u001b[1;32m     40\u001b[0m         obj\u001b[38;5;241m.\u001b[39mrarity \u001b[38;5;241m=\u001b[39m rarity\n\u001b[1;32m     41\u001b[0m         \u001b[38;5;28;01mreturn\u001b[39;00m obj\n\u001b[0;32m---> 43\u001b[0m \u001b[38;5;28;01mclass\u001b[39;00m \u001b[38;5;21;01mWarriorCard\u001b[39;00m(Card):\n\u001b[1;32m     44\u001b[0m     FRICK \u001b[38;5;241m=\u001b[39m ()\n",
      "File \u001b[0;32m/usr/lib/python3.8/enum.py:129\u001b[0m, in \u001b[0;36mEnumMeta.__prepare__\u001b[0;34m(metacls, cls, bases)\u001b[0m\n\u001b[1;32m    127\u001b[0m enum_dict \u001b[38;5;241m=\u001b[39m _EnumDict()\n\u001b[1;32m    128\u001b[0m \u001b[38;5;66;03m# inherit previous flags and _generate_next_value_ function\u001b[39;00m\n\u001b[0;32m--> 129\u001b[0m member_type, first_enum \u001b[38;5;241m=\u001b[39m \u001b[43mmetacls\u001b[49m\u001b[38;5;241;43m.\u001b[39;49m\u001b[43m_get_mixins_\u001b[49m\u001b[43m(\u001b[49m\u001b[43mbases\u001b[49m\u001b[43m)\u001b[49m\n\u001b[1;32m    130\u001b[0m \u001b[38;5;28;01mif\u001b[39;00m first_enum \u001b[38;5;129;01mis\u001b[39;00m \u001b[38;5;129;01mnot\u001b[39;00m \u001b[38;5;28;01mNone\u001b[39;00m:\n\u001b[1;32m    131\u001b[0m     enum_dict[\u001b[38;5;124m'\u001b[39m\u001b[38;5;124m_generate_next_value_\u001b[39m\u001b[38;5;124m'\u001b[39m] \u001b[38;5;241m=\u001b[39m \u001b[38;5;28mgetattr\u001b[39m(first_enum, \u001b[38;5;124m'\u001b[39m\u001b[38;5;124m_generate_next_value_\u001b[39m\u001b[38;5;124m'\u001b[39m, \u001b[38;5;28;01mNone\u001b[39;00m)\n",
      "File \u001b[0;32m/usr/lib/python3.8/enum.py:507\u001b[0m, in \u001b[0;36mEnumMeta._get_mixins_\u001b[0;34m(bases)\u001b[0m\n\u001b[1;32m    505\u001b[0m member_type \u001b[38;5;241m=\u001b[39m _find_data_type(bases) \u001b[38;5;129;01mor\u001b[39;00m \u001b[38;5;28mobject\u001b[39m\n\u001b[1;32m    506\u001b[0m \u001b[38;5;28;01mif\u001b[39;00m first_enum\u001b[38;5;241m.\u001b[39m_member_names_:\n\u001b[0;32m--> 507\u001b[0m     \u001b[38;5;28;01mraise\u001b[39;00m \u001b[38;5;167;01mTypeError\u001b[39;00m(\u001b[38;5;124m\"\u001b[39m\u001b[38;5;124mCannot extend enumerations\u001b[39m\u001b[38;5;124m\"\u001b[39m)\n\u001b[1;32m    508\u001b[0m \u001b[38;5;28;01mreturn\u001b[39;00m member_type, first_enum\n",
      "\u001b[0;31mTypeError\u001b[0m: Cannot extend enumerations"
     ]
    }
   ],
   "source": [
    "from src import *"
   ]
  },
  {
   "cell_type": "markdown",
   "id": "b8f7c4ed-3bf0-4089-bfb5-91e59d6cca91",
   "metadata": {},
   "source": [
    "# Start the Game\n",
    "\n",
    "You get a few companions to start the game with, chosen at random."
   ]
  },
  {
   "cell_type": "code",
   "execution_count": null,
   "id": "a2ec5c0f-6b82-457c-9404-a8b82655c76e",
   "metadata": {},
   "outputs": [],
   "source": [
    "tb = Testbed()\n",
    "print(tb)"
   ]
  },
  {
   "cell_type": "markdown",
   "id": "afc1ba02-d5b6-4b38-b3b7-880d61d77f8e",
   "metadata": {},
   "source": [
    "# Combat\n",
    "\n",
    "Run the combat with paper cards. Use this notebook to record damage."
   ]
  },
  {
   "cell_type": "code",
   "execution_count": null,
   "id": "5549572d-7920-4fb8-bd95-44fb425fa514",
   "metadata": {},
   "outputs": [],
   "source": [
    "encounter = Encounter([Enemy(\"Steven Rinkus\", EnemyType.CRINGELORD)])\n",
    "print(encounter)"
   ]
  },
  {
   "cell_type": "code",
   "execution_count": null,
   "id": "ffc2c8db-eb67-4f81-bd29-d80ca9b9f8cc",
   "metadata": {},
   "outputs": [],
   "source": [
    "encounter.enemies[\"Steven Rinkus\"].damage(10)"
   ]
  },
  {
   "cell_type": "code",
   "execution_count": null,
   "id": "097ca1ae-f498-46ac-a0c0-bcff33afe64d",
   "metadata": {},
   "outputs": [],
   "source": [
    "tb.companions[\"MarmotEntropy\"].damage(5)"
   ]
  },
  {
   "cell_type": "code",
   "execution_count": null,
   "id": "7db7bc55-34b1-489a-8c5c-38c63c7cd974",
   "metadata": {},
   "outputs": [],
   "source": [
    "tb.print_roster()"
   ]
  },
  {
   "cell_type": "code",
   "execution_count": null,
   "id": "4c47e5b2-7c81-4ee0-ad19-47d8cf700213",
   "metadata": {},
   "outputs": [],
   "source": [
    "encounter.end_turn()"
   ]
  },
  {
   "cell_type": "markdown",
   "id": "5bdadc69-f619-4a08-9d77-134ef11fe4be",
   "metadata": {},
   "source": [
    "# Shop\n",
    "\n",
    "After combat, you get a reward and you get to view the shop."
   ]
  },
  {
   "cell_type": "code",
   "execution_count": null,
   "id": "19e7e055-8847-4e3e-bd3e-0d10b5ca78a7",
   "metadata": {},
   "outputs": [],
   "source": [
    "# POST-COMBAT procedure\n",
    "tb.generate_shop_post_combat()"
   ]
  },
  {
   "cell_type": "code",
   "execution_count": null,
   "id": "40953bf4-a4d6-4b0b-b884-ecff546bcc95",
   "metadata": {},
   "outputs": [],
   "source": [
    "tb.reroll_cards()"
   ]
  },
  {
   "cell_type": "code",
   "execution_count": null,
   "id": "25539f03-1be3-4929-9dfe-59f2e3140bf1",
   "metadata": {},
   "outputs": [],
   "source": [
    "# In this block, write actions on the shop.\n",
    "tb.buy_companion(CompanionType.ENTROPY)\n",
    "tb.print_roster()"
   ]
  },
  {
   "cell_type": "code",
   "execution_count": null,
   "id": "7d8189e0-f20e-4a40-a102-c5b86ca94bde",
   "metadata": {},
   "outputs": [],
   "source": [
    "print(tb.shop)"
   ]
  },
  {
   "cell_type": "code",
   "execution_count": null,
   "id": "0283ac57-f4be-4264-9976-2ff0cc56e1bb",
   "metadata": {},
   "outputs": [],
   "source": []
  }
 ],
 "metadata": {
  "kernelspec": {
   "display_name": "Python 3 (ipykernel)",
   "language": "python",
   "name": "python3"
  },
  "language_info": {
   "codemirror_mode": {
    "name": "ipython",
    "version": 3
   },
   "file_extension": ".py",
   "mimetype": "text/x-python",
   "name": "python",
   "nbconvert_exporter": "python",
   "pygments_lexer": "ipython3",
   "version": "3.8.5"
  }
 },
 "nbformat": 4,
 "nbformat_minor": 5
}
