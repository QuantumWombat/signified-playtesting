{
 "cells": [
  {
   "cell_type": "code",
   "execution_count": 1,
   "id": "45891e97-ca72-4043-983e-6115dc0c92ec",
   "metadata": {},
   "outputs": [],
   "source": [
    "from src import *"
   ]
  },
  {
   "cell_type": "markdown",
   "id": "b8f7c4ed-3bf0-4089-bfb5-91e59d6cca91",
   "metadata": {},
   "source": [
    "# Start the Game\n",
    "\n",
    "You get a few companions to start the game with, chosen at random."
   ]
  },
  {
   "cell_type": "code",
   "execution_count": 3,
   "id": "a2ec5c0f-6b82-457c-9404-a8b82655c76e",
   "metadata": {},
   "outputs": [
    {
     "name": "stdout",
     "output_type": "stream",
     "text": [
      "ROSTER\n",
      "GammaEntropy: 1⚔️ 20/20💖\n",
      "GammaWarrior: 1⚔️ 20/20💖\n",
      "OmegaEntropy: 1⚔️ 20/20💖\n",
      "\n",
      "Your current gold: 0\n",
      "\n",
      "COMPANIONS (4 gold): \n",
      "\n",
      "CARDS (3 gold): \n",
      "\n",
      "UPGRADE (4 gold)\n",
      "\n",
      "REROLL (1 gold)\n"
     ]
    }
   ],
   "source": [
    "tb = Testbed()\n",
    "print(tb)"
   ]
  },
  {
   "cell_type": "markdown",
   "id": "afc1ba02-d5b6-4b38-b3b7-880d61d77f8e",
   "metadata": {},
   "source": [
    "# Combat\n",
    "\n",
    "Run the combat with paper cards. Use this notebook to record damage."
   ]
  },
  {
   "cell_type": "code",
   "execution_count": 5,
   "id": "5549572d-7920-4fb8-bd95-44fb425fa514",
   "metadata": {},
   "outputs": [
    {
     "name": "stdout",
     "output_type": "stream",
     "text": [
      "😈 Steven Rinkus, Cringelord: 40/40💖. Attacking for 10\n"
     ]
    }
   ],
   "source": [
    "encounter = Encounter([Enemy(\"Steven Rinkus\", EnemyType.CRINGELORD)])\n",
    "print(encounter)"
   ]
  },
  {
   "cell_type": "markdown",
   "id": "05a54280-7cde-4dc1-988a-c4df4fc75fa3",
   "metadata": {},
   "source": [
    "Repeat the folllowing steps"
   ]
  },
  {
   "cell_type": "code",
   "execution_count": 10,
   "id": "c7de1652-031e-43c4-be58-00b8d3929127",
   "metadata": {},
   "outputs": [
    {
     "name": "stdout",
     "output_type": "stream",
     "text": [
      "😈 Steven Rinkus, Cringelord: 30/40💖. Attacking for 13\n"
     ]
    }
   ],
   "source": [
    "print(encounter)"
   ]
  },
  {
   "cell_type": "code",
   "execution_count": 11,
   "id": "ffc2c8db-eb67-4f81-bd29-d80ca9b9f8cc",
   "metadata": {},
   "outputs": [
    {
     "name": "stdout",
     "output_type": "stream",
     "text": [
      "😈 Steven Rinkus, Cringelord: 20/40💖. Attacking for 13\n"
     ]
    }
   ],
   "source": [
    "encounter.enemies[\"Steven Rinkus\"].damage(10)"
   ]
  },
  {
   "cell_type": "code",
   "execution_count": 13,
   "id": "097ca1ae-f498-46ac-a0c0-bcff33afe64d",
   "metadata": {},
   "outputs": [
    {
     "name": "stdout",
     "output_type": "stream",
     "text": [
      "GammaWarrior: 1⚔️ 2/20💖\n"
     ]
    }
   ],
   "source": [
    "tb.companions[\"GammaWarrior\"].damage(-5)"
   ]
  },
  {
   "cell_type": "code",
   "execution_count": 14,
   "id": "7db7bc55-34b1-489a-8c5c-38c63c7cd974",
   "metadata": {},
   "outputs": [
    {
     "name": "stdout",
     "output_type": "stream",
     "text": [
      "ROSTER\n",
      "GammaEntropy: 1⚔️ 20/20💖\n",
      "GammaWarrior: 1⚔️ 2/20💖\n",
      "OmegaEntropy: 1⚔️ 20/20💖\n",
      "\n"
     ]
    }
   ],
   "source": [
    "tb.print_roster()"
   ]
  },
  {
   "cell_type": "code",
   "execution_count": 15,
   "id": "4c47e5b2-7c81-4ee0-ad19-47d8cf700213",
   "metadata": {},
   "outputs": [
    {
     "name": "stdout",
     "output_type": "stream",
     "text": [
      "End of turn 2\n",
      "😈 Steven Rinkus, Cringelord: 20/40💖. Attacking for 16\n"
     ]
    }
   ],
   "source": [
    "encounter.end_turn()"
   ]
  },
  {
   "cell_type": "markdown",
   "id": "5bdadc69-f619-4a08-9d77-134ef11fe4be",
   "metadata": {},
   "source": [
    "# Shop\n",
    "\n",
    "After combat, you get a reward and you get to view the shop."
   ]
  },
  {
   "cell_type": "code",
   "execution_count": null,
   "id": "19e7e055-8847-4e3e-bd3e-0d10b5ca78a7",
   "metadata": {},
   "outputs": [],
   "source": [
    "# POST-COMBAT procedure\n",
    "tb.generate_shop_post_combat()"
   ]
  },
  {
   "cell_type": "code",
   "execution_count": null,
   "id": "40953bf4-a4d6-4b0b-b884-ecff546bcc95",
   "metadata": {},
   "outputs": [],
   "source": [
    "tb.reroll_cards()"
   ]
  },
  {
   "cell_type": "code",
   "execution_count": null,
   "id": "25539f03-1be3-4929-9dfe-59f2e3140bf1",
   "metadata": {},
   "outputs": [],
   "source": [
    "# In this block, write actions on the shop.\n",
    "tb.buy_companion(CompanionType.ENTROPY)\n",
    "tb.print_roster()"
   ]
  },
  {
   "cell_type": "code",
   "execution_count": null,
   "id": "7d8189e0-f20e-4a40-a102-c5b86ca94bde",
   "metadata": {},
   "outputs": [],
   "source": [
    "print(tb.shop)"
   ]
  },
  {
   "cell_type": "code",
   "execution_count": null,
   "id": "0283ac57-f4be-4264-9976-2ff0cc56e1bb",
   "metadata": {},
   "outputs": [],
   "source": []
  }
 ],
 "metadata": {
  "kernelspec": {
   "display_name": "Python 3 (ipykernel)",
   "language": "python",
   "name": "python3"
  },
  "language_info": {
   "codemirror_mode": {
    "name": "ipython",
    "version": 3
   },
   "file_extension": ".py",
   "mimetype": "text/x-python",
   "name": "python",
   "nbconvert_exporter": "python",
   "pygments_lexer": "ipython3",
   "version": "3.8.5"
  }
 },
 "nbformat": 4,
 "nbformat_minor": 5
}
