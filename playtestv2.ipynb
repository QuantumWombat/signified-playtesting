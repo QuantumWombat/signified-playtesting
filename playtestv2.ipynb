{
 "cells": [
  {
   "cell_type": "code",
   "execution_count": null,
   "id": "6325088a-e616-4a3a-b9b2-fbf3a0a9b70f",
   "metadata": {},
   "outputs": [],
   "source": [
    "from signified import *"
   ]
  },
  {
   "attachments": {},
   "cell_type": "markdown",
   "id": "b2e81ab6-fb02-4a47-bd01-7b8e23282d6b",
   "metadata": {},
   "source": [
    "### Initialize the Testing Instance from Notion Data\n",
    "\n",
    "There are CSVs of the cards and companion data exported from Notion, checked into Github.\n",
    "This initializes the testing instance with the exact cards and companions from there."
   ]
  },
  {
   "cell_type": "code",
   "execution_count": null,
   "id": "a0bdb126-0acd-45d5-b910-2e2fcaba0a47",
   "metadata": {},
   "outputs": [],
   "source": [
    "testbed = TestingInstance.init_from_csvs(\"data/v3_companions.csv\", \"data/v3_cards.csv\")"
   ]
  },
  {
   "attachments": {},
   "cell_type": "markdown",
   "id": "e6bad0fe-c6cc-4001-bbdc-3780b18f1f16",
   "metadata": {},
   "source": [
    "### Start the Game\n",
    "\n",
    "You will be presented with two initial rosters of three companions, like what Professor Oak does.\n",
    "Refer to the physical cards for the companion's passive abilities and starting decks."
   ]
  },
  {
   "cell_type": "code",
   "execution_count": null,
   "id": "cf994a18-4211-4a4b-9449-5a2b26406a1f",
   "metadata": {},
   "outputs": [],
   "source": [
    "testbed.choose_starting_pokemon()"
   ]
  },
  {
   "attachments": {},
   "cell_type": "markdown",
   "id": "d8a34af6-e597-4d60-9e78-15c06e60d221",
   "metadata": {},
   "source": [
    "### First Encounter"
   ]
  },
  {
   "cell_type": "code",
   "execution_count": null,
   "id": "a8238044-5941-42b2-8f38-afe496b095e5",
   "metadata": {},
   "outputs": [],
   "source": [
    "goon = Enemy(\n",
    "    \"Goon\", \n",
    "    40,\n",
    "    40, \n",
    "    8, \n",
    "    \"Attacks the front of your team for {attack} each turn.\",\n",
    ")\n",
    "\n",
    "testbed.combat([goon])"
   ]
  },
  {
   "cell_type": "code",
   "execution_count": null,
   "id": "f29e143e-7242-4f30-b580-02c3badfcfff",
   "metadata": {},
   "outputs": [],
   "source": [
    "# Combat rewards. Only run this once because it is not idempotent!\n",
    "testbed.combat_reward(10)"
   ]
  },
  {
   "cell_type": "code",
   "execution_count": null,
   "id": "acbb5d50-889e-401e-bd7d-04dafdf6a841",
   "metadata": {},
   "outputs": [],
   "source": [
    "testbed.shop()"
   ]
  },
  {
   "attachments": {},
   "cell_type": "markdown",
   "id": "be8cd488-1295-4538-b15b-e088017c8c0d",
   "metadata": {},
   "source": [
    "### Second Encounter"
   ]
  },
  {
   "cell_type": "code",
   "execution_count": null,
   "id": "ae5ddba7-516d-4d5a-8c58-ae8ec57adae4",
   "metadata": {},
   "outputs": [],
   "source": [
    "troll = Enemy(\n",
    "    \"Troll\", \n",
    "    35,\n",
    "    35, \n",
    "    4, \n",
    "    \"Currently attacking the front of your team for {attack}. Scales by {scaling_factor} each turn.\",\n",
    "    scaling_factor=1,\n",
    ")\n",
    "goblin = Enemy(\n",
    "    \"Goblin\", \n",
    "    25,\n",
    "    25, \n",
    "    5,\n",
    "    \"Currently attacking the back of your team for {attack}. Scales by {scaling_factor} each turn.\",\n",
    "    scaling_factor=2,\n",
    ")\n",
    "\n",
    "testbed.combat([troll, goblin])"
   ]
  },
  {
   "cell_type": "code",
   "execution_count": null,
   "id": "b600f8f2-8d41-4f45-b5cf-23257387b8fd",
   "metadata": {},
   "outputs": [],
   "source": [
    "# Combat rewards. Only run this once because it is not idempotent!\n",
    "testbed.combat_reward(10)"
   ]
  },
  {
   "cell_type": "code",
   "execution_count": null,
   "id": "c6f3b23f-0806-4497-beb3-45a8ff1d24ef",
   "metadata": {},
   "outputs": [],
   "source": [
    "testbed.shop()"
   ]
  },
  {
   "cell_type": "code",
   "execution_count": null,
   "id": "c3a2ae11-8fa1-4c24-9223-6d8e680ece5d",
   "metadata": {},
   "outputs": [],
   "source": [
    "kobold1 = Enemy(\n",
    "    \"Thick Kobold\", \n",
    "    40,\n",
    "    40, \n",
    "    4, \n",
    "    \"Currently attacking the front of your team for {attack}. Scales by {scaling_factor} each turn.\",\n",
    "    scaling_factor=1,\n",
    ")\n",
    "kobold2 = Enemy(\n",
    "    \"Angry Kobold\", \n",
    "    25,\n",
    "    25, \n",
    "    3, \n",
    "    \"Currently attacking the second-to-front companion for {attack}. Scales by {scaling_factor} each turn.\",\n",
    "    scaling_factor=3,\n",
    ")\n",
    "kobold3 = Enemy(\n",
    "    \"Mungry Kobold\", \n",
    "    25,\n",
    "    25, \n",
    "    3, \n",
    "    \"Currently attacking the third-to-front companion for {attack}. Scales by {scaling_factor} each turn.\",\n",
    "    scaling_factor=3,\n",
    ")\n",
    "testbed.combat([kobold1, kobold2, kobold3])"
   ]
  },
  {
   "cell_type": "code",
   "execution_count": null,
   "id": "07b22e40-6a02-4b27-af6b-0c137bc4369f",
   "metadata": {},
   "outputs": [],
   "source": [
    "# Combat rewards. Only run this once because it is not idempotent!\n",
    "testbed.combat_reward(10)"
   ]
  },
  {
   "cell_type": "code",
   "execution_count": null,
   "id": "6c0b8e37-cc93-4beb-a7b7-71d487f7819a",
   "metadata": {},
   "outputs": [],
   "source": [
    "testbed.shop()"
   ]
  },
  {
   "cell_type": "code",
   "execution_count": null,
   "id": "0183b0cd-e79a-444b-951e-a5f034eaa286",
   "metadata": {},
   "outputs": [],
   "source": []
  }
 ],
 "metadata": {
  "kernelspec": {
   "display_name": "Python 3 (ipykernel)",
   "language": "python",
   "name": "python3"
  },
  "language_info": {
   "codemirror_mode": {
    "name": "ipython",
    "version": 3
   },
   "file_extension": ".py",
   "mimetype": "text/x-python",
   "name": "python",
   "nbconvert_exporter": "python",
   "pygments_lexer": "ipython3"
  }
 },
 "nbformat": 4,
 "nbformat_minor": 5
}
