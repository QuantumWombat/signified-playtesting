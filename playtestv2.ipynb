{
 "cells": [
  {
   "cell_type": "code",
   "execution_count": null,
   "id": "6325088a-e616-4a3a-b9b2-fbf3a0a9b70f",
   "metadata": {},
   "outputs": [],
   "source": [
    "from signified import *"
   ]
  },
  {
   "cell_type": "markdown",
   "id": "b2e81ab6-fb02-4a47-bd01-7b8e23282d6b",
   "metadata": {},
   "source": [
    "### Initialize the Testing Instance from Notion Data\n",
    "\n",
    "There are CSVs of the cards and companion data exported from Notion, checked into Github.\n",
    "This initializes the testing instance with the exact cards and companions from there."
   ]
  },
  {
   "cell_type": "code",
   "execution_count": null,
   "id": "a0bdb126-0acd-45d5-b910-2e2fcaba0a47",
   "metadata": {},
   "outputs": [],
   "source": [
    "testbed = TestingInstance.init_from_csvs(\"data/v2_companions.csv\", \"data/v2_cards.csv\")"
   ]
  },
  {
   "cell_type": "markdown",
   "id": "e6bad0fe-c6cc-4001-bbdc-3780b18f1f16",
   "metadata": {},
   "source": [
    "### Start the Game\n",
    "\n",
    "You will be presented with two initial rosters of three companions, like what Professor Oak does.\n",
    "Refer to the physical cards for the companion's passive abilities and starting decks."
   ]
  },
  {
   "cell_type": "code",
   "execution_count": null,
   "id": "cf994a18-4211-4a4b-9449-5a2b26406a1f",
   "metadata": {},
   "outputs": [],
   "source": [
    "testbed.choose_starting_pokemon()"
   ]
  },
  {
   "cell_type": "markdown",
   "id": "d8a34af6-e597-4d60-9e78-15c06e60d221",
   "metadata": {},
   "source": [
    "### First Encounter"
   ]
  },
  {
   "cell_type": "code",
   "execution_count": null,
   "id": "a8238044-5941-42b2-8f38-afe496b095e5",
   "metadata": {},
   "outputs": [],
   "source": [
    "goon = Enemy(\"Goon\", 40, 40, 8, \"Attacks the front of your team for {attack} each turn\")\n",
    "\n",
    "testbed.combat([goon])"
   ]
  },
  {
   "cell_type": "code",
   "execution_count": null,
   "id": "f29e143e-7242-4f30-b580-02c3badfcfff",
   "metadata": {},
   "outputs": [],
   "source": [
    "# Combat rewards. Only run this once because it is not idempotent!\n",
    "testbed.combat_reward(10)"
   ]
  },
  {
   "cell_type": "code",
   "execution_count": null,
   "id": "acbb5d50-889e-401e-bd7d-04dafdf6a841",
   "metadata": {},
   "outputs": [],
   "source": [
    "testbed.shop()"
   ]
  },
  {
   "cell_type": "markdown",
   "id": "be8cd488-1295-4538-b15b-e088017c8c0d",
   "metadata": {},
   "source": [
    "### Second Encounter"
   ]
  },
  {
   "cell_type": "code",
   "execution_count": null,
   "id": "ae5ddba7-516d-4d5a-8c58-ae8ec57adae4",
   "metadata": {},
   "outputs": [],
   "source": [
    "goon = Enemy(\"Goon\", 40, 40, 8, \"Attacks the front of your team for {attack} each turn\")\n",
    "goblin = Enemy(\"Goblin\", 35, 35, 9, \"Attacks the back of your team for {attack} each turn\")\n",
    "\n",
    "testbed.combat([goon, goblin])"
   ]
  },
  {
   "cell_type": "code",
   "execution_count": null,
   "id": "b600f8f2-8d41-4f45-b5cf-23257387b8fd",
   "metadata": {},
   "outputs": [],
   "source": [
    "# Combat rewards. Only run this once because it is not idempotent!\n",
    "testbed.combat_reward(10)"
   ]
  },
  {
   "cell_type": "code",
   "execution_count": null,
   "id": "c6f3b23f-0806-4497-beb3-45a8ff1d24ef",
   "metadata": {},
   "outputs": [],
   "source": [
    "testbed.shop()"
   ]
  },
  {
   "cell_type": "code",
   "execution_count": null,
   "id": "c3a2ae11-8fa1-4c24-9223-6d8e680ece5d",
   "metadata": {},
   "outputs": [],
   "source": []
  }
 ],
 "metadata": {
  "kernelspec": {
   "display_name": "Python 3 (ipykernel)",
   "language": "python",
   "name": "python3"
  },
  "language_info": {
   "codemirror_mode": {
    "name": "ipython",
    "version": 3
   },
   "file_extension": ".py",
   "mimetype": "text/x-python",
   "name": "python",
   "nbconvert_exporter": "python",
   "pygments_lexer": "ipython3"
  }
 },
 "nbformat": 4,
 "nbformat_minor": 5
}
