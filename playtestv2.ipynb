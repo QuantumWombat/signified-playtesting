{
 "cells": [
  {
   "cell_type": "code",
   "execution_count": 1,
   "id": "6325088a-e616-4a3a-b9b2-fbf3a0a9b70f",
   "metadata": {},
   "outputs": [],
   "source": [
    "from signified import *\n",
    "import subprocess\n",
    "from pathlib import Path"
   ]
  },
  {
   "cell_type": "markdown",
   "id": "b2e81ab6-fb02-4a47-bd01-7b8e23282d6b",
   "metadata": {},
   "source": [
    "### Initialize the Testing Instance from Notion Data\n",
    "\n",
    "There are CSVs of the cards and companion data exported from Notion, checked into Github.\n",
    "This initializes the testing instance with the exact cards and companions from there."
   ]
  },
  {
   "cell_type": "code",
   "execution_count": 2,
   "id": "a0bdb126-0acd-45d5-b910-2e2fcaba0a47",
   "metadata": {},
   "outputs": [],
   "source": [
    "git_root = subprocess.check_output([\"git\", \"rev-parse\", \"--show-toplevel\"]).rstrip().decode('utf-8')\n",
    "companions_csv = Path(git_root) / \"data\" / \"v2_companions.csv\"\n",
    "cards_csv = Path(git_root) / \"data\" / \"v2_cards.csv\"\n",
    "\n",
    "testbed = TestingInstance.init_from_csvs(companions_csv, cards_csv)"
   ]
  },
  {
   "cell_type": "markdown",
   "id": "e6bad0fe-c6cc-4001-bbdc-3780b18f1f16",
   "metadata": {},
   "source": [
    "### Start the Game\n",
    "\n",
    "You will be presented with two initial rosters of three companions, like what Professor Oak does.\n",
    "Refer to the physical cards for the companion's passive abilities and starting decks."
   ]
  },
  {
   "cell_type": "code",
   "execution_count": 3,
   "id": "cf994a18-4211-4a4b-9449-5a2b26406a1f",
   "metadata": {},
   "outputs": [
    {
     "name": "stdout",
     "output_type": "stream",
     "text": [
      "Choose your starting companion team.\n",
      "Option 1: ['Entropy', 'Architect', 'Pythia']\n",
      "Option 2:  ['Clown', 'Pythia', 'Aborah']\n",
      "Enter '1' for Option 1 or '2' for Option 2: "
     ]
    },
    {
     "name": "stdin",
     "output_type": "stream",
     "text": [
      " 1\n"
     ]
    }
   ],
   "source": [
    "testbed.choose_starting_pokemon()"
   ]
  },
  {
   "cell_type": "markdown",
   "id": "d8a34af6-e597-4d60-9e78-15c06e60d221",
   "metadata": {},
   "source": [
    "### First Combat"
   ]
  },
  {
   "cell_type": "code",
   "execution_count": 4,
   "id": "a8238044-5941-42b2-8f38-afe496b095e5",
   "metadata": {},
   "outputs": [
    {
     "name": "stdout",
     "output_type": "stream",
     "text": [
      "Goon            40/40💖 Attacks the front of your team for 5 each turn\n",
      "----------\n",
      "Your Companion Roster\n",
      "tc-Entropy      0⚔️ 20/20💖\n",
      "yg-Architect    0⚔️ 20/20💖\n",
      "op-Pythia       0⚔️ 20/20💖\n",
      "----------\n",
      "Starting combat.\n",
      "Available actions: ['damage', 'exit', 'status']\n",
      "Example: `damage Goon 4` deals 4 damage to the enemy called Goon\n",
      ">>>"
     ]
    },
    {
     "name": "stdin",
     "output_type": "stream",
     "text": [
      " e\n"
     ]
    }
   ],
   "source": [
    "e = Enemy(\"Goon\", 40, 40, 5, \"Attacks the front of your team for {attack} each turn\")\n",
    "\n",
    "testbed.combat([e])"
   ]
  },
  {
   "cell_type": "code",
   "execution_count": 5,
   "id": "f29e143e-7242-4f30-b580-02c3badfcfff",
   "metadata": {},
   "outputs": [
    {
     "name": "stdout",
     "output_type": "stream",
     "text": [
      "Previous balance $0\n",
      "You earned $10 combat reward and $0 interest on your savings\n",
      "Total earnings: $10\n",
      "Current balance $10\n"
     ]
    }
   ],
   "source": [
    "# Combat rewards. Only run this once because it is not idempotent!\n",
    "testbed.combat_reward(10)"
   ]
  },
  {
   "cell_type": "markdown",
   "id": "3ca1b0f5-c6f7-492d-b0ee-649f367de9f7",
   "metadata": {},
   "source": [
    "### First Shop"
   ]
  },
  {
   "cell_type": "code",
   "execution_count": 6,
   "id": "f40905f8-75d2-4101-8037-0f1b917fade4",
   "metadata": {},
   "outputs": [
    {
     "name": "stdout",
     "output_type": "stream",
     "text": [
      "----------\n",
      "Shop Level 1, Energy: 3, Max Team Size: 3\n",
      "Your current gold: $10\n",
      "Companions ($4): Clown - Aborah\n",
      "Cards ($1): Con Artist - Summon Orb - Empower - Mechanical Repairs\n",
      "Upgrade the shop ($4)\n",
      "Reroll ($1)\n",
      "----------\n",
      "Welcome to the shop.\n",
      "Available actions: ['buy', 'exit', 'status', 'upgrade', 'reroll', 'lookup']\n",
      "Buy things using `buy` with the name of the card or companion, e.g. `buy Double Strike`\n",
      "Use `lookup` to get information about a card or companion, e.g. `lookup Aborah`\n",
      ">>> "
     ]
    },
    {
     "name": "stdin",
     "output_type": "stream",
     "text": [
      " upgrade\n"
     ]
    },
    {
     "name": "stdout",
     "output_type": "stream",
     "text": [
      "You successfully upgraded the shop to shop level 2\n",
      "Your team size and mana are now different! Energy: 3, Max Team Size 4\n",
      ">>> "
     ]
    },
    {
     "name": "stdin",
     "output_type": "stream",
     "text": [
      " buy clown\n"
     ]
    },
    {
     "name": "stdout",
     "output_type": "stream",
     "text": [
      "You bought the companion `Clown`\n",
      "Your Companion Roster\n",
      "tc-Entropy      0⚔️ 20/20💖\n",
      "yg-Architect    0⚔️ 20/20💖\n",
      "op-Pythia       0⚔️ 20/20💖\n",
      "nc-Clown        0⚔️ 30/30💖\n",
      ">>> "
     ]
    },
    {
     "name": "stdin",
     "output_type": "stream",
     "text": [
      " st\n"
     ]
    },
    {
     "name": "stdout",
     "output_type": "stream",
     "text": [
      "----------\n",
      "Shop Level 2, Energy: 3, Max Team Size 4\n",
      "Your current gold: $2\n",
      "Companions ($4): Aborah\n",
      "Cards ($1): Con Artist - Summon Orb - Empower - Mechanical Repairs\n",
      "Upgrade the shop ($18)\n",
      "Reroll ($1)\n",
      "----------\n",
      ">>> "
     ]
    },
    {
     "name": "stdin",
     "output_type": "stream",
     "text": [
      " e\n"
     ]
    }
   ],
   "source": [
    "testbed.shop()"
   ]
  },
  {
   "cell_type": "code",
   "execution_count": null,
   "id": "7f8d50ec-1f29-4947-989d-f607d1d7fca3",
   "metadata": {},
   "outputs": [],
   "source": []
  }
 ],
 "metadata": {
  "kernelspec": {
   "display_name": "Python 3 (ipykernel)",
   "language": "python",
   "name": "python3"
  },
  "language_info": {
   "codemirror_mode": {
    "name": "ipython",
    "version": 3
   },
   "file_extension": ".py",
   "mimetype": "text/x-python",
   "name": "python",
   "nbconvert_exporter": "python",
   "pygments_lexer": "ipython3",
   "version": "3.8.5"
  }
 },
 "nbformat": 4,
 "nbformat_minor": 5
}
